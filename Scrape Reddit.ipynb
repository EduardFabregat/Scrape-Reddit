{
 "cells": [
  {
   "cell_type": "code",
   "execution_count": null,
   "metadata": {},
   "outputs": [],
   "source": [
    "import pandas as pd\n",
    "import numpy as np\n",
    "import requests\n",
    "import json\n",
    "import csv\n",
    "import time\n",
    "import datetime\n",
    "import math\n",
    "import prawcore"
   ]
  },
  {
   "cell_type": "code",
   "execution_count": null,
   "metadata": {},
   "outputs": [],
   "source": [
    "my_client_id = ''\n",
    "my_client_secret = ''\n",
    "my_user_agent = ''\n",
    "\n",
    "import praw\n",
    "from psaw import PushshiftAPI\n",
    "reddit = praw.Reddit(client_id=my_client_id, client_secret=my_client_secret, user_agent=my_user_agent)\n",
    "api = PushshiftAPI(reddit)"
   ]
  },
  {
   "cell_type": "markdown",
   "metadata": {},
   "source": [
    "Subreddit is commented out to search the whole of reddit"
   ]
  },
  {
   "cell_type": "code",
   "execution_count": null,
   "metadata": {},
   "outputs": [],
   "source": [
    "def getPushshiftData(query, after, before):#, sub):\n",
    "    url = 'https://api.pushshift.io/reddit/search/submission/?title='+str(query)+'&size=10000&after='+str(after)+'&before='+str(before)#+'&subreddit='+str(sub)\n",
    "    print(url)\n",
    "    r = requests.get(url)\n",
    "    data = json.loads(r.text)\n",
    "    return data['data']"
   ]
  },
  {
   "cell_type": "code",
   "execution_count": null,
   "metadata": {},
   "outputs": [],
   "source": [
    "def collectSubData(subm):\n",
    "    subData = list() #list to store data points\n",
    "    title = subm['title']\n",
    "    url = subm['url']\n",
    "    try:\n",
    "        flair = subm['link_flair_text']\n",
    "    except KeyError:\n",
    "        flair = \"NaN\"    \n",
    "    author = subm['author']\n",
    "    sub_id = subm['id']\n",
    "    score = subm['score']\n",
    "    created = datetime.datetime.fromtimestamp(subm['created_utc']) #1520561700.0\n",
    "    numComms = subm['num_comments']\n",
    "    permalink = subm['permalink']\n",
    "    upvote = subm['upvote_ratio']\n",
    "    \n",
    "    subData.append((sub_id,title,url,author,score,created,numComms,permalink,flair,upvote))\n",
    "    subStats[sub_id] = subData"
   ]
  },
  {
   "cell_type": "code",
   "execution_count": null,
   "metadata": {},
   "outputs": [],
   "source": [
    "#Subreddit to query\n",
    "#sub='conspiracy'\n",
    "#before and after dates\n",
    "before = \"1596743277\" #13/07\n",
    "#before = math.ceil(datetime.utcnow().timestamp())\n",
    "after = \"1483228800\"  #08/07 \n",
    "query = \"catalonia\"\n",
    "subCount = 0\n",
    "subStats = {}"
   ]
  },
  {
   "cell_type": "code",
   "execution_count": null,
   "metadata": {},
   "outputs": [],
   "source": [
    "data = getPushshiftData(query, after, before)#, sub)# Will run until all posts have been gathered \n",
    "# from the 'after' date up until before date\n",
    "while len(data) > 0:\n",
    "    for submission in data:\n",
    "        collectSubData(submission)\n",
    "        subCount+=1\n",
    "    # Calls getPushshiftData() with the created date of the last submission\n",
    "    print(len(data))\n",
    "    print(str(datetime.datetime.fromtimestamp(data[-1]['created_utc'])))\n",
    "    after = data[-1]['created_utc']\n",
    "    data = getPushshiftData(query, after, before)#, sub)\n",
    "    \n",
    "print(len(data))"
   ]
  },
  {
   "cell_type": "code",
   "execution_count": null,
   "metadata": {},
   "outputs": [],
   "source": [
    "print(str(len(subStats)) + \" submissions have added to list\")\n",
    "print(\"1st entry is:\")\n",
    "print(list(subStats.values())[0][0][1] + \" created: \" + str(list(subStats.values())[0][0][5]))\n",
    "print(\"Last entry is:\")\n",
    "print(list(subStats.values())[-1][0][1] + \" created: \" + str(list(subStats.values())[-1][0][5]))"
   ]
  },
  {
   "cell_type": "code",
   "execution_count": null,
   "metadata": {},
   "outputs": [],
   "source": [
    "def updateSubs_file():\n",
    "    upload_count = 0\n",
    "    location = \"C:\\\\Users\\\\posit\\\\Downloads\"\n",
    "    print(\"input filename of submission file, please add .csv\")\n",
    "    filename = input()\n",
    "    file = location + filename\n",
    "    with open(file, 'w', newline='', encoding='utf-8') as file: \n",
    "        a = csv.writer(file, delimiter=',')\n",
    "        headers = [\"Post_ID\",\"Title\",\"Url\",\"Author\",\"Score\",\"Publish_Date\",\"Total_No_of_Comments\",\"Permalink\",\"Flair\",\"Upvote\"]\n",
    "        a.writerow(headers)\n",
    "        for sub in subStats:\n",
    "            a.writerow(subStats[sub][0])\n",
    "            upload_count+=1\n",
    "            \n",
    "        print(str(upload_count) + \" submissions have been uploaded\")\n",
    "        \n",
    "updateSubs_file()"
   ]
  },
  {
   "cell_type": "code",
   "execution_count": null,
   "metadata": {},
   "outputs": [],
   "source": [
    "submissions = []\n",
    "comments = []"
   ]
  },
  {
   "cell_type": "code",
   "execution_count": null,
   "metadata": {},
   "outputs": [],
   "source": [
    "for i in df['Post_ID']:\n",
    "    print(i)\n",
    "    submission = reddit.submission(id=f'{i}')\n",
    "    submissions.append(submission)\n",
    "    try:\n",
    "        submission.comments.replace_more(limit=None)\n",
    "        for comment in submission.comments.list():\n",
    "            comments.append(comment)\n",
    "    except prawcore.exceptions.Forbidden:\n",
    "        continue\n",
    "    except prawcore.exceptions.NotFound:\n",
    "        continue"
   ]
  },
  {
   "cell_type": "code",
   "execution_count": null,
   "metadata": {},
   "outputs": [],
   "source": [
    "len(comments)"
   ]
  },
  {
   "cell_type": "code",
   "execution_count": null,
   "metadata": {},
   "outputs": [],
   "source": [
    "author = []\n",
    "body = []\n",
    "date = []\n",
    "link_id = []\n",
    "parent_id = []\n",
    "sub_com = []\n",
    "score_com = []\n",
    "r_com = []\n",
    "replies = []\n",
    "date_rep = []\n",
    "author_rep = []\n",
    "link_rep = []\n",
    "parent_rep = []\n",
    "sub_rep = []\n",
    "score_rep = []\n",
    "r_rep = []\n",
    "\n",
    "for i in range(len(comments)):\n",
    "    author.append(comments[i].author)\n",
    "    body.append(comments[i].body)\n",
    "    date.append(comments[i].created_utc)\n",
    "    link_id.append(comments[i].link_id)\n",
    "    parent_id.append(comments[i].parent())\n",
    "    sub_com.append(comments[i].submission)\n",
    "    score_com.append(comments[i].score)\n",
    "    r_com.append(comments[i].subreddit)\n",
    "    for reply in comments[i].replies:\n",
    "        replies.append(reply.body)\n",
    "        date_rep.append(reply.created_utc)\n",
    "        author_rep.append(reply.author)\n",
    "        link_rep.append(reply.link_id)\n",
    "        parent_rep.append(reply.parent())\n",
    "        sub_rep.append(reply.submission)\n",
    "        score_rep.append(reply.score)\n",
    "        r_rep.append(reply.subreddit)"
   ]
  },
  {
   "cell_type": "code",
   "execution_count": null,
   "metadata": {},
   "outputs": [],
   "source": [
    "author_df = pd.DataFrame(author)\n",
    "author_df['index'] = author_df.index\n",
    "comment_df = pd.DataFrame(body)\n",
    "comment_df['index'] = comment_df.index\n",
    "date_df = pd.DataFrame(date)\n",
    "date_df['index'] = date_df.index\n",
    "link_df = pd.DataFrame(link_id)\n",
    "link_df['index'] = link_df.index\n",
    "parent_df = pd.DataFrame(parent_id)\n",
    "parent_df['index'] = parent_df.index\n",
    "sub_df = pd.DataFrame(sub_com)\n",
    "sub_df['index'] = sub_df.index\n",
    "score_df = pd.DataFrame(score_com)\n",
    "score_df['index'] = score_df.index\n",
    "r_df = pd.DataFrame(r_com)\n",
    "r_df['index'] = r_df.index"
   ]
  },
  {
   "cell_type": "code",
   "execution_count": null,
   "metadata": {},
   "outputs": [],
   "source": [
    "author_rep_df = pd.DataFrame(author_rep)\n",
    "author_rep_df['index'] = author_rep_df.index\n",
    "comment_rep_df = pd.DataFrame(replies)\n",
    "comment_rep_df['index'] = comment_rep_df.index\n",
    "date_rep_df = pd.DataFrame(date_rep)\n",
    "date_rep_df['index'] = date_rep_df.index\n",
    "link_rep_df = pd.DataFrame(link_rep)\n",
    "link_rep_df['index'] = link_rep_df.index\n",
    "parent_rep_df = pd.DataFrame(parent_rep)\n",
    "parent_rep_df['index'] = parent_rep_df.index\n",
    "sub_rep_df = pd.DataFrame(sub_rep)\n",
    "sub_rep_df['index'] = sub_rep_df.index\n",
    "score_rep_df = pd.DataFrame(score_rep)\n",
    "score_rep_df['index'] = score_rep_df.index\n",
    "r_rep_df = pd.DataFrame(r_rep)\n",
    "r_rep_df['index'] = r_rep_df.index"
   ]
  },
  {
   "cell_type": "code",
   "execution_count": null,
   "metadata": {},
   "outputs": [],
   "source": [
    "comments_df = pd.DataFrame()\n",
    "comments_df['index'] = np.arange(0,181182,1)"
   ]
  },
  {
   "cell_type": "code",
   "execution_count": null,
   "metadata": {},
   "outputs": [],
   "source": [
    "comments_df = comments_df.join(author_df,on='index',how='left',rsuffix='_right')\n",
    "comments_df = comments_df.join(comment_df,on='index',how='left',rsuffix='_right')\n",
    "comments_df = comments_df.join(date_df,on='index',how='left',rsuffix='_right')\n",
    "comments_df = comments_df.join(link_df,on='index',how='left',rsuffix='_right')\n",
    "comments_df = comments_df.join(parent_df,on='index',how='left',rsuffix='_right')\n",
    "comments_df = comments_df.join(sub_df,on='index',how='left',rsuffix='_right')\n",
    "comments_df = comments_df.join(score_df,on='index',how='left',rsuffix='_right')\n",
    "comments_df = comments_df.join(r_df,on='index',how='left',rsuffix='_right')"
   ]
  },
  {
   "cell_type": "code",
   "execution_count": null,
   "metadata": {},
   "outputs": [],
   "source": [
    "comments_df.columns"
   ]
  },
  {
   "cell_type": "code",
   "execution_count": null,
   "metadata": {},
   "outputs": [],
   "source": [
    "comments_df.drop(['index_right','index'], axis=1,inplace=True)\n",
    "comments_df.columns = ['author', 'comment','date','link','parent','submission','score','subreddit']\n",
    "comments_df.head()"
   ]
  },
  {
   "cell_type": "code",
   "execution_count": null,
   "metadata": {},
   "outputs": [],
   "source": [
    "len(replies)"
   ]
  },
  {
   "cell_type": "code",
   "execution_count": null,
   "metadata": {},
   "outputs": [],
   "source": [
    "replies_df = pd.DataFrame()\n",
    "replies_df['index'] = np.arange(0,149624,1)"
   ]
  },
  {
   "cell_type": "code",
   "execution_count": null,
   "metadata": {},
   "outputs": [],
   "source": [
    "replies_df = replies_df.join(author_rep_df,on='index',how='left',rsuffix='_right')\n",
    "replies_df = replies_df.join(comment_rep_df,on='index',how='left',rsuffix='_right')\n",
    "replies_df = replies_df.join(date_rep_df,on='index',how='left',rsuffix='_right')\n",
    "replies_df = replies_df.join(link_rep_df,on='index',how='left',rsuffix='_right')\n",
    "replies_df = replies_df.join(parent_rep_df,on='index',how='left',rsuffix='_right')\n",
    "replies_df = replies_df.join(sub_rep_df,on='index',how='left',rsuffix='_right')\n",
    "replies_df = replies_df.join(score_rep_df,on='index',how='left',rsuffix='_right')\n",
    "replies_df = replies_df.join(r_rep_df,on='index',how='left',rsuffix='_right')"
   ]
  },
  {
   "cell_type": "code",
   "execution_count": null,
   "metadata": {},
   "outputs": [],
   "source": [
    "replies_df.columns"
   ]
  },
  {
   "cell_type": "code",
   "execution_count": null,
   "metadata": {},
   "outputs": [],
   "source": [
    "replies_df.drop(['index_right','index'], axis=1,inplace=True)\n",
    "replies_df.columns = ['author', 'comment','date','link','parent','submission','score','subreddit']\n",
    "replies_df.head()"
   ]
  },
  {
   "cell_type": "code",
   "execution_count": null,
   "metadata": {},
   "outputs": [],
   "source": [
    "all_com_rep = pd.DataFrame()\n",
    "all_com_rep = comments_df.append(replies_df)\n",
    "all_com_rep"
   ]
  },
  {
   "cell_type": "code",
   "execution_count": null,
   "metadata": {},
   "outputs": [],
   "source": [
    "all_com_rep.to_csv(\"Raddit.csv\",index=False)\n",
    "all_com_rep = pd.read_csv('C:\\\\Users\\\\posit\\\\Reddit.csv')"
   ]
  },
  {
   "cell_type": "code",
   "execution_count": null,
   "metadata": {},
   "outputs": [],
   "source": [
    "import sqlite3"
   ]
  },
  {
   "cell_type": "code",
   "execution_count": null,
   "metadata": {},
   "outputs": [],
   "source": [
    "conn = sqlite3.connect(\"DB.db\")"
   ]
  },
  {
   "cell_type": "code",
   "execution_count": null,
   "metadata": {},
   "outputs": [],
   "source": [
    "df.columns"
   ]
  },
  {
   "cell_type": "code",
   "execution_count": null,
   "metadata": {},
   "outputs": [],
   "source": [
    "all_com_rep.columns"
   ]
  },
  {
   "cell_type": "code",
   "execution_count": null,
   "metadata": {},
   "outputs": [],
   "source": [
    "c = conn.cursor()\n",
    "\n",
    "def create_table():\n",
    "    c.execute(\"CREATE TABLE IF NOT EXISTS Submissions(Post_ID TEXT, Title TEXT,Url TEXT, Author TEXT, Score REAL,Publish_Date TEXT, Total_No_of_Comments REAL, Permalink TEXT, Flair TEXT)\")\n",
    "\n",
    "create_table()"
   ]
  },
  {
   "cell_type": "code",
   "execution_count": null,
   "metadata": {},
   "outputs": [],
   "source": [
    "def create_table():\n",
    "    c.execute(\"CREATE TABLE IF NOT EXISTS Comments(author TEXT, comment TEXT,date INTEGER, link TEXT, parent REAL,submission TEXT, score REAL, subreddit TEXT)\")\n",
    "\n",
    "create_table()"
   ]
  },
  {
   "cell_type": "code",
   "execution_count": null,
   "metadata": {},
   "outputs": [],
   "source": [
    "df.to_sql(\"Submissions\", conn, if_exists = 'append', index = False)\n",
    "all_com_rep.to_sql(\"Comments\", conn, if_exists = 'append', index = False)"
   ]
  }
 ],
 "metadata": {
  "kernelspec": {
   "display_name": "Python 3",
   "language": "python",
   "name": "python3"
  },
  "language_info": {
   "codemirror_mode": {
    "name": "ipython",
    "version": 3
   },
   "file_extension": ".py",
   "mimetype": "text/x-python",
   "name": "python",
   "nbconvert_exporter": "python",
   "pygments_lexer": "ipython3",
   "version": "3.7.4"
  }
 },
 "nbformat": 4,
 "nbformat_minor": 2
}
