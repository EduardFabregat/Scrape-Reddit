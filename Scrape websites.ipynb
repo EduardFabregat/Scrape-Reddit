{
 "cells": [
  {
   "cell_type": "code",
   "execution_count": null,
   "metadata": {},
   "outputs": [],
   "source": [
    "import time\n",
    "from selenium import webdriver\n",
    "from selenium.webdriver.common.action_chains import ActionChains\n",
    "from random import randint\n",
    "import requests\n",
    "from bs4 import BeautifulSoup\n",
    "import urllib"
   ]
  },
  {
   "cell_type": "markdown",
   "metadata": {},
   "source": [
    "Start Chrome remotely"
   ]
  },
  {
   "cell_type": "code",
   "execution_count": null,
   "metadata": {},
   "outputs": [],
   "source": [
    "options = webdriver.ChromeOptions()\n",
    "options.add_argument('--ignore-certificate-errors')\n",
    "options.add_argument('--incognito')\n",
    "#options.add_argument('--headless')\n",
    "driver = webdriver.Chrome(\"C:\\\\Users\\\\posit\\\\chromedriver.exe\", chrome_options=options)"
   ]
  },
  {
   "cell_type": "markdown",
   "metadata": {},
   "source": [
    "With this code you scrape the page for links withour selenium. You just need to know the number of pages to scrape. "
   ]
  },
  {
   "cell_type": "code",
   "execution_count": null,
   "metadata": {},
   "outputs": [],
   "source": [
    "links = []\n",
    "for i in range(1,10,1):\n",
    "    driver.get(\"https://dailycaller.com/section/politics/page/%d\" % (i))\n",
    "    list_links = driver.find_elements_by_css_selector(\".text-black\")\n",
    "    for i in list_links:\n",
    "        links.append(i.get_attribute('href'))\n",
    "driver.quit()"
   ]
  },
  {
   "cell_type": "markdown",
   "metadata": {},
   "source": [
    "The code here uses selenium to click on the button \"load more\" and find the links"
   ]
  },
  {
   "cell_type": "code",
   "execution_count": null,
   "metadata": {},
   "outputs": [],
   "source": [
    "driver.get(\"https://www.foxnews.com/search-results/search?q=immigration\")\n",
    "\n",
    "links = []\n",
    "\n",
    "for i in range(1,5,1):\n",
    "    #driver.execute_script('window.scrollTo(0, document.body.scrollHeight);') \n",
    "    button = driver.find_element_by_css_selector('.load-more span')\n",
    "    list_links = driver.find_elements_by_css_selector(\".title a\")\n",
    "    for i in list_links:\n",
    "        links.append(i.get_attribute('href'))\n",
    "    time.sleep(randint(2,10))\n",
    "    ActionChains(driver).move_to_element(button).click(button).perform()\n",
    "\n",
    "driver.quit()    "
   ]
  },
  {
   "cell_type": "markdown",
   "metadata": {},
   "source": [
    "The following code scrapes each article and find the headline, date and text"
   ]
  },
  {
   "cell_type": "code",
   "execution_count": null,
   "metadata": {},
   "outputs": [],
   "source": [
    "title = []\n",
    "date = []\n",
    "text = []\n",
    "for i in range(0,60,1):\n",
    "    temp = links[i]\n",
    "    try:\n",
    "        page = requests.get(f'{temp}')\n",
    "        soup = BeautifulSoup(page.text, \"lxml\")\n",
    "        title.append(soup.find('h1',class_='headline'))\n",
    "        date.append(soup.find('div', class_='article-date'))\n",
    "        text.append(soup.find('div',class_='article-body'))\n",
    "    except Exception:\n",
    "        continue"
   ]
  },
  {
   "cell_type": "markdown",
   "metadata": {},
   "source": [
    "Or we can use newspaper3k if it works"
   ]
  },
  {
   "cell_type": "code",
   "execution_count": 1,
   "metadata": {},
   "outputs": [],
   "source": [
    "from newspaper import Article"
   ]
  },
  {
   "cell_type": "code",
   "execution_count": null,
   "metadata": {},
   "outputs": [],
   "source": [
    "title = []\n",
    "date = []\n",
    "text = []\n",
    "for i in range(0,60,1):\n",
    "    temp = links[i]\n",
    "    try:\n",
    "        url = f'{temp}'\n",
    "        article = Article(url)\n",
    "        article.download()\n",
    "        article.parse()\n",
    "        title.append(article.title)\n",
    "        date.append(article.publish_date)\n",
    "        text.append(article.text) \n",
    "    except Exception:\n",
    "        continue"
   ]
  }
 ],
 "metadata": {
  "kernelspec": {
   "display_name": "Python 3",
   "language": "python",
   "name": "python3"
  },
  "language_info": {
   "codemirror_mode": {
    "name": "ipython",
    "version": 3
   },
   "file_extension": ".py",
   "mimetype": "text/x-python",
   "name": "python",
   "nbconvert_exporter": "python",
   "pygments_lexer": "ipython3",
   "version": "3.7.4"
  }
 },
 "nbformat": 4,
 "nbformat_minor": 2
}
