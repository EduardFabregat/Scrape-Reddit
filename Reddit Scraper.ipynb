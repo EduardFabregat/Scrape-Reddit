{
 "cells": [
  {
   "cell_type": "code",
   "execution_count": 160,
   "metadata": {},
   "outputs": [],
   "source": [
    "import pandas as pd\n",
    "import numpy as np\n",
    "import requests\n",
    "import json\n",
    "import csv\n",
    "import time\n",
    "import datetime\n",
    "import math"
   ]
  },
  {
   "cell_type": "code",
   "execution_count": 161,
   "metadata": {},
   "outputs": [],
   "source": [
    "my_client_id = 'V5VI7rbXYAHpaQ'\n",
    "my_client_secret = 'wMX4ps5HWnRWYgzTfm-2tSBhP9c'\n",
    "my_user_agent = 'Data for research'\n",
    "\n",
    "import praw\n",
    "from psaw import PushshiftAPI\n",
    "reddit = praw.Reddit(client_id=my_client_id, client_secret=my_client_secret, user_agent=my_user_agent)\n",
    "api = PushshiftAPI(reddit)"
   ]
  },
  {
   "cell_type": "code",
   "execution_count": 162,
   "metadata": {},
   "outputs": [],
   "source": [
    "def getPushshiftData(query, after, before, sub):\n",
    "    url = 'https://api.pushshift.io/reddit/search/submission/?title='+str(query)+'&size=10000&after='+str(after)+'&before='+str(before)+'&subreddit='+str(sub)\n",
    "    print(url)\n",
    "    r = requests.get(url)\n",
    "    data = json.loads(r.text)\n",
    "    return data['data']"
   ]
  },
  {
   "cell_type": "code",
   "execution_count": 163,
   "metadata": {},
   "outputs": [],
   "source": [
    "def collectSubData(subm):\n",
    "    subData = list() #list to store data points\n",
    "    title = subm['title']\n",
    "    url = subm['url']\n",
    "    try:\n",
    "        flair = subm['link_flair_text']\n",
    "    except KeyError:\n",
    "        flair = \"NaN\"    \n",
    "    author = subm['author']\n",
    "    sub_id = subm['id']\n",
    "    score = subm['score']\n",
    "    created = datetime.datetime.fromtimestamp(subm['created_utc']) #1520561700.0\n",
    "    numComms = subm['num_comments']\n",
    "    permalink = subm['permalink']\n",
    "    \n",
    "    subData.append((sub_id,title,url,author,score,created,numComms,permalink,flair))\n",
    "    subStats[sub_id] = subData"
   ]
  },
  {
   "cell_type": "code",
   "execution_count": 164,
   "metadata": {},
   "outputs": [],
   "source": [
    "#Subreddit to query\n",
    "sub='conspiracy'\n",
    "#before and after dates\n",
    "before = \"1594669044\" #13/07\n",
    "#before = math.ceil(datetime.utcnow().timestamp())\n",
    "after = \"1594166400\"  #08/07 \n",
    "query = \"Wayfair\"\n",
    "subCount = 0\n",
    "subStats = {}"
   ]
  },
  {
   "cell_type": "code",
   "execution_count": 165,
   "metadata": {},
   "outputs": [
    {
     "name": "stdout",
     "output_type": "stream",
     "text": [
      "https://api.pushshift.io/reddit/search/submission/?title=Wayfair&size=10000&after=1594166400&before=1594669044&subreddit=conspiracy\n",
      "100\n",
      "2020-07-10 22:08:08\n",
      "https://api.pushshift.io/reddit/search/submission/?title=Wayfair&size=10000&after=1594433288&before=1594669044&subreddit=conspiracy\n",
      "100\n",
      "2020-07-11 08:35:58\n",
      "https://api.pushshift.io/reddit/search/submission/?title=Wayfair&size=10000&after=1594470958&before=1594669044&subreddit=conspiracy\n",
      "100\n",
      "2020-07-11 14:41:33\n",
      "https://api.pushshift.io/reddit/search/submission/?title=Wayfair&size=10000&after=1594492893&before=1594669044&subreddit=conspiracy\n",
      "100\n",
      "2020-07-11 23:12:48\n",
      "https://api.pushshift.io/reddit/search/submission/?title=Wayfair&size=10000&after=1594523568&before=1594669044&subreddit=conspiracy\n",
      "100\n",
      "2020-07-12 18:33:41\n",
      "https://api.pushshift.io/reddit/search/submission/?title=Wayfair&size=10000&after=1594593221&before=1594669044&subreddit=conspiracy\n",
      "62\n",
      "2020-07-13 15:26:26\n",
      "https://api.pushshift.io/reddit/search/submission/?title=Wayfair&size=10000&after=1594668386&before=1594669044&subreddit=conspiracy\n",
      "0\n"
     ]
    }
   ],
   "source": [
    "data = getPushshiftData(query, after, before, sub)# Will run until all posts have been gathered \n",
    "# from the 'after' date up until before date\n",
    "while len(data) > 0:\n",
    "    for submission in data:\n",
    "        collectSubData(submission)\n",
    "        subCount+=1\n",
    "    # Calls getPushshiftData() with the created date of the last submission\n",
    "    print(len(data))\n",
    "    print(str(datetime.datetime.fromtimestamp(data[-1]['created_utc'])))\n",
    "    after = data[-1]['created_utc']\n",
    "    data = getPushshiftData(query, after, before, sub)\n",
    "    \n",
    "print(len(data))"
   ]
  },
  {
   "cell_type": "code",
   "execution_count": 166,
   "metadata": {},
   "outputs": [
    {
     "name": "stdout",
     "output_type": "stream",
     "text": [
      "562 submissions have added to list\n",
      "1st entry is:\n",
      "Is wayfair selling children ? created: 2020-07-09 01:45:10\n",
      "Last entry is:\n",
      "Videoclip of what happens in your wayfair cart. created: 2020-07-13 15:26:26\n"
     ]
    }
   ],
   "source": [
    "print(str(len(subStats)) + \" submissions have added to list\")\n",
    "print(\"1st entry is:\")\n",
    "print(list(subStats.values())[0][0][1] + \" created: \" + str(list(subStats.values())[0][0][5]))\n",
    "print(\"Last entry is:\")\n",
    "print(list(subStats.values())[-1][0][1] + \" created: \" + str(list(subStats.values())[-1][0][5]))"
   ]
  },
  {
   "cell_type": "code",
   "execution_count": 167,
   "metadata": {},
   "outputs": [
    {
     "name": "stdout",
     "output_type": "stream",
     "text": [
      "input filename of submission file, please add .csv\n",
      "wayfair_submissions.csv\n",
      "562 submissions have been uploaded\n"
     ]
    }
   ],
   "source": [
    "def updateSubs_file():\n",
    "    upload_count = 0\n",
    "    location = \"C:\\\\Users\\\\posit\\\\Downloads\"\n",
    "    print(\"input filename of submission file, please add .csv\")\n",
    "    filename = input()\n",
    "    file = location + filename\n",
    "    with open(file, 'w', newline='', encoding='utf-8') as file: \n",
    "        a = csv.writer(file, delimiter=',')\n",
    "        headers = [\"Post ID\",\"Title\",\"Url\",\"Author\",\"Score\",\"Publish Date\",\"Total No. of Comments\",\"Permalink\",\"Flair\"]\n",
    "        a.writerow(headers)\n",
    "        for sub in subStats:\n",
    "            a.writerow(subStats[sub][0])\n",
    "            upload_count+=1\n",
    "            \n",
    "        print(str(upload_count) + \" submissions have been uploaded\")\n",
    "        \n",
    "updateSubs_file()"
   ]
  },
  {
   "cell_type": "code",
   "execution_count": 168,
   "metadata": {},
   "outputs": [
    {
     "data": {
      "text/html": [
       "<div>\n",
       "<style scoped>\n",
       "    .dataframe tbody tr th:only-of-type {\n",
       "        vertical-align: middle;\n",
       "    }\n",
       "\n",
       "    .dataframe tbody tr th {\n",
       "        vertical-align: top;\n",
       "    }\n",
       "\n",
       "    .dataframe thead th {\n",
       "        text-align: right;\n",
       "    }\n",
       "</style>\n",
       "<table border=\"1\" class=\"dataframe\">\n",
       "  <thead>\n",
       "    <tr style=\"text-align: right;\">\n",
       "      <th></th>\n",
       "      <th>Post ID</th>\n",
       "      <th>Title</th>\n",
       "      <th>Url</th>\n",
       "      <th>Author</th>\n",
       "      <th>Score</th>\n",
       "      <th>Publish Date</th>\n",
       "      <th>Total No. of Comments</th>\n",
       "      <th>Permalink</th>\n",
       "      <th>Flair</th>\n",
       "    </tr>\n",
       "  </thead>\n",
       "  <tbody>\n",
       "    <tr>\n",
       "      <td>0</td>\n",
       "      <td>hnxnn5</td>\n",
       "      <td>Is wayfair selling children ?</td>\n",
       "      <td>https://i.redd.it/9rnx5ml5sr951.jpg</td>\n",
       "      <td>pawsfurdaze</td>\n",
       "      <td>1</td>\n",
       "      <td>2020-07-09 01:45:10</td>\n",
       "      <td>59</td>\n",
       "      <td>/r/conspiracy/comments/hnxnn5/is_wayfair_selli...</td>\n",
       "      <td>NaN</td>\n",
       "    </tr>\n",
       "    <tr>\n",
       "      <td>1</td>\n",
       "      <td>ho2pqv</td>\n",
       "      <td>Is it possible Wayfair involved in Human traff...</td>\n",
       "      <td>https://i.redd.it/ch6ep77kyt951.jpg</td>\n",
       "      <td>PrincessPeach1987</td>\n",
       "      <td>1</td>\n",
       "      <td>2020-07-09 09:04:38</td>\n",
       "      <td>2494</td>\n",
       "      <td>/r/conspiracy/comments/ho2pqv/is_it_possible_w...</td>\n",
       "      <td>NaN</td>\n",
       "    </tr>\n",
       "    <tr>\n",
       "      <td>2</td>\n",
       "      <td>hoay8h</td>\n",
       "      <td>Pt. 2: from my recent post I showed you one sc...</td>\n",
       "      <td>https://i.redd.it/5mkghvpm8w951.jpg</td>\n",
       "      <td>oLoLoS</td>\n",
       "      <td>2</td>\n",
       "      <td>2020-07-09 16:44:38</td>\n",
       "      <td>10</td>\n",
       "      <td>/r/conspiracy/comments/hoay8h/pt_2_from_my_rec...</td>\n",
       "      <td>NaN</td>\n",
       "    </tr>\n",
       "    <tr>\n",
       "      <td>3</td>\n",
       "      <td>hoch8y</td>\n",
       "      <td>The Wayfair 'IMG USA' search works with lots o...</td>\n",
       "      <td>https://www.reddit.com/r/conspiracy/comments/h...</td>\n",
       "      <td>nova-north</td>\n",
       "      <td>3</td>\n",
       "      <td>2020-07-09 18:07:47</td>\n",
       "      <td>44</td>\n",
       "      <td>/r/conspiracy/comments/hoch8y/the_wayfair_img_...</td>\n",
       "      <td>NaN</td>\n",
       "    </tr>\n",
       "    <tr>\n",
       "      <td>4</td>\n",
       "      <td>hojt15</td>\n",
       "      <td>wayfair sells children (proof + true)</td>\n",
       "      <td>https://www.reddit.com/r/conspiracy/comments/h...</td>\n",
       "      <td>wake_up_its_here</td>\n",
       "      <td>1</td>\n",
       "      <td>2020-07-10 02:15:44</td>\n",
       "      <td>0</td>\n",
       "      <td>/r/conspiracy/comments/hojt15/wayfair_sells_ch...</td>\n",
       "      <td>New User</td>\n",
       "    </tr>\n",
       "  </tbody>\n",
       "</table>\n",
       "</div>"
      ],
      "text/plain": [
       "  Post ID                                              Title  \\\n",
       "0  hnxnn5                      Is wayfair selling children ?   \n",
       "1  ho2pqv  Is it possible Wayfair involved in Human traff...   \n",
       "2  hoay8h  Pt. 2: from my recent post I showed you one sc...   \n",
       "3  hoch8y  The Wayfair 'IMG USA' search works with lots o...   \n",
       "4  hojt15              wayfair sells children (proof + true)   \n",
       "\n",
       "                                                 Url             Author  \\\n",
       "0                https://i.redd.it/9rnx5ml5sr951.jpg        pawsfurdaze   \n",
       "1                https://i.redd.it/ch6ep77kyt951.jpg  PrincessPeach1987   \n",
       "2                https://i.redd.it/5mkghvpm8w951.jpg             oLoLoS   \n",
       "3  https://www.reddit.com/r/conspiracy/comments/h...         nova-north   \n",
       "4  https://www.reddit.com/r/conspiracy/comments/h...   wake_up_its_here   \n",
       "\n",
       "   Score         Publish Date  Total No. of Comments  \\\n",
       "0      1  2020-07-09 01:45:10                     59   \n",
       "1      1  2020-07-09 09:04:38                   2494   \n",
       "2      2  2020-07-09 16:44:38                     10   \n",
       "3      3  2020-07-09 18:07:47                     44   \n",
       "4      1  2020-07-10 02:15:44                      0   \n",
       "\n",
       "                                           Permalink     Flair  \n",
       "0  /r/conspiracy/comments/hnxnn5/is_wayfair_selli...       NaN  \n",
       "1  /r/conspiracy/comments/ho2pqv/is_it_possible_w...       NaN  \n",
       "2  /r/conspiracy/comments/hoay8h/pt_2_from_my_rec...       NaN  \n",
       "3  /r/conspiracy/comments/hoch8y/the_wayfair_img_...       NaN  \n",
       "4  /r/conspiracy/comments/hojt15/wayfair_sells_ch...  New User  "
      ]
     },
     "execution_count": 168,
     "metadata": {},
     "output_type": "execute_result"
    }
   ],
   "source": [
    "df = pd.read_csv(\"C:\\\\Users\\\\posit\\\\Downloadswayfair_submissions.csv\")\n",
    "df.head()"
   ]
  },
  {
   "cell_type": "code",
   "execution_count": 169,
   "metadata": {},
   "outputs": [],
   "source": [
    "submissions = []\n",
    "comments = []"
   ]
  },
  {
   "cell_type": "code",
   "execution_count": 170,
   "metadata": {},
   "outputs": [],
   "source": [
    "for i in df['Post ID']:\n",
    "    author = []\n",
    "    parent = []\n",
    "    body = []\n",
    "    date = []\n",
    "    response = []\n",
    "    submission = reddit.submission(id=f'{i}')\n",
    "    submissions.append(submission)\n",
    "    submission.comments.replace_more(limit=None)\n",
    "    for comment in submission.comments.list():\n",
    "        comments.append(comment)"
   ]
  },
  {
   "cell_type": "code",
   "execution_count": 171,
   "metadata": {},
   "outputs": [
    {
     "data": {
      "text/plain": [
       "16753"
      ]
     },
     "execution_count": 171,
     "metadata": {},
     "output_type": "execute_result"
    }
   ],
   "source": [
    "len(comments)"
   ]
  },
  {
   "cell_type": "code",
   "execution_count": 172,
   "metadata": {},
   "outputs": [],
   "source": [
    "author = []\n",
    "body = []\n",
    "date = []\n",
    "link_id = []\n",
    "parent_id = []\n",
    "sub_com = []\n",
    "replies = []\n",
    "date_rep = []\n",
    "author_rep = []\n",
    "link_rep = []\n",
    "parent_rep = []\n",
    "sub_rep = []\n",
    "comments_df = pd.DataFrame(columns=['author', 'body', 'created_utc','link_id','parent_id','submission'])\n",
    "rep_df = pd.DataFrame(columns=['author', 'body', 'created_utc','link_id','parent_id','submission'])"
   ]
  },
  {
   "cell_type": "code",
   "execution_count": 173,
   "metadata": {},
   "outputs": [],
   "source": [
    "for i in range(len(comments)):\n",
    "    author.append(comments[i].author)\n",
    "    body.append(comments[i].body)\n",
    "    date.append(comments[i].created_utc)\n",
    "    link_id.append(comments[i].link_id)\n",
    "    parent_id.append(comments[i].parent())\n",
    "    sub_com.append(comments[i].submission)\n",
    "    for reply in comments[i].replies:\n",
    "        replies.append(reply.body)\n",
    "        date_rep.append(reply.created_utc)\n",
    "        author_rep.append(reply.author)\n",
    "        link_rep.append(reply.link_id)\n",
    "        parent_rep.append(reply.parent())\n",
    "        sub_rep.append(reply.submission)"
   ]
  },
  {
   "cell_type": "code",
   "execution_count": 297,
   "metadata": {},
   "outputs": [],
   "source": [
    "author_df = pd.DataFrame(author)\n",
    "author_df['index'] = author_df.index\n",
    "comment_df = pd.DataFrame(body)\n",
    "comment_df['index'] = comment_df.index\n",
    "date_df = pd.DataFrame(date)\n",
    "date_df['index'] = date_df.index\n",
    "link_df = pd.DataFrame(link_id)\n",
    "link_df['index'] = link_df.index\n",
    "parent_df = pd.DataFrame(parent_id)\n",
    "parent_df['index'] = parent_df.index\n",
    "sub_df = pd.DataFrame(sub_com)\n",
    "sub_df['index'] = sub_df.index"
   ]
  },
  {
   "cell_type": "code",
   "execution_count": 310,
   "metadata": {},
   "outputs": [],
   "source": [
    "author_rep_df = pd.DataFrame(author_rep)\n",
    "author_rep_df['index'] = author_rep_df.index\n",
    "comment_rep_df = pd.DataFrame(replies)\n",
    "comment_rep_df['index'] = comment_rep_df.index\n",
    "date_rep_df = pd.DataFrame(date_rep)\n",
    "date_rep_df['index'] = date_rep_df.index\n",
    "link_rep_df = pd.DataFrame(link_rep)\n",
    "link_rep_df['index'] = link_rep_df.index\n",
    "parent_rep_df = pd.DataFrame(parent_rep)\n",
    "parent_rep_df['index'] = parent_rep_df.index\n",
    "sub_rep_df = pd.DataFrame(sub_rep)\n",
    "sub_rep_df['index'] = sub_rep_df.index"
   ]
  },
  {
   "cell_type": "code",
   "execution_count": 298,
   "metadata": {},
   "outputs": [],
   "source": [
    "comments_df = pd.DataFrame()\n",
    "comments_df['index'] = np.arange(0,16753,1)"
   ]
  },
  {
   "cell_type": "code",
   "execution_count": 299,
   "metadata": {
    "scrolled": true
   },
   "outputs": [],
   "source": [
    "comments_df = comments_df.join(author_df,on='index',how='left',rsuffix='_right')"
   ]
  },
  {
   "cell_type": "code",
   "execution_count": 300,
   "metadata": {},
   "outputs": [],
   "source": [
    "comments_df = comments_df.join(comment_df,on='index',how='left',rsuffix='_right')"
   ]
  },
  {
   "cell_type": "code",
   "execution_count": 301,
   "metadata": {},
   "outputs": [],
   "source": [
    "comments_df = comments_df.join(date_df,on='index',how='left',rsuffix='_right')"
   ]
  },
  {
   "cell_type": "code",
   "execution_count": 302,
   "metadata": {},
   "outputs": [],
   "source": [
    "comments_df = comments_df.join(link_df,on='index',how='left',rsuffix='_right')"
   ]
  },
  {
   "cell_type": "code",
   "execution_count": 303,
   "metadata": {},
   "outputs": [],
   "source": [
    "comments_df = comments_df.join(parent_df,on='index',how='left',rsuffix='_right')"
   ]
  },
  {
   "cell_type": "code",
   "execution_count": 304,
   "metadata": {},
   "outputs": [],
   "source": [
    "comments_df = comments_df.join(sub_df,on='index',how='left',rsuffix='_right')"
   ]
  },
  {
   "cell_type": "code",
   "execution_count": 305,
   "metadata": {},
   "outputs": [
    {
     "data": {
      "text/plain": [
       "Index(['index', '0', 'index_right', '0_right', 'index_right', '0',\n",
       "       'index_right', '0_right', 'index_right', '0', 'index_right', '0_right',\n",
       "       'index_right'],\n",
       "      dtype='object')"
      ]
     },
     "execution_count": 305,
     "metadata": {},
     "output_type": "execute_result"
    }
   ],
   "source": [
    "comments_df.columns"
   ]
  },
  {
   "cell_type": "code",
   "execution_count": 306,
   "metadata": {},
   "outputs": [],
   "source": [
    "comments_df.drop(['index_right','index'], axis=1,inplace=True)"
   ]
  },
  {
   "cell_type": "code",
   "execution_count": 308,
   "metadata": {},
   "outputs": [],
   "source": [
    "comments_df.columns = ['author', 'comment','date','link','parent','submission']"
   ]
  },
  {
   "cell_type": "code",
   "execution_count": 309,
   "metadata": {},
   "outputs": [
    {
     "data": {
      "text/html": [
       "<div>\n",
       "<style scoped>\n",
       "    .dataframe tbody tr th:only-of-type {\n",
       "        vertical-align: middle;\n",
       "    }\n",
       "\n",
       "    .dataframe tbody tr th {\n",
       "        vertical-align: top;\n",
       "    }\n",
       "\n",
       "    .dataframe thead th {\n",
       "        text-align: right;\n",
       "    }\n",
       "</style>\n",
       "<table border=\"1\" class=\"dataframe\">\n",
       "  <thead>\n",
       "    <tr style=\"text-align: right;\">\n",
       "      <th></th>\n",
       "      <th>author</th>\n",
       "      <th>comment</th>\n",
       "      <th>date</th>\n",
       "      <th>link</th>\n",
       "      <th>parent</th>\n",
       "      <th>submission</th>\n",
       "    </tr>\n",
       "  </thead>\n",
       "  <tbody>\n",
       "    <tr>\n",
       "      <td>0</td>\n",
       "      <td>AutoModerator</td>\n",
       "      <td>###[Meta] Sticky Comment\\n\\n[Rule 2](https://w...</td>\n",
       "      <td>1.594274e+09</td>\n",
       "      <td>t3_hnxnn5</td>\n",
       "      <td>hnxnn5</td>\n",
       "      <td>hnxnn5</td>\n",
       "    </tr>\n",
       "    <tr>\n",
       "      <td>1</td>\n",
       "      <td>That_Weird_Girl</td>\n",
       "      <td>Kinda reminds me of \"hidden links\" that chines...</td>\n",
       "      <td>1.594282e+09</td>\n",
       "      <td>t3_hnxnn5</td>\n",
       "      <td>hnxnn5</td>\n",
       "      <td>hnxnn5</td>\n",
       "    </tr>\n",
       "    <tr>\n",
       "      <td>2</td>\n",
       "      <td>4NKALI0N</td>\n",
       "      <td>The throw pillows and cabinets are literally n...</td>\n",
       "      <td>1.594407e+09</td>\n",
       "      <td>t3_hnxnn5</td>\n",
       "      <td>hnxnn5</td>\n",
       "      <td>hnxnn5</td>\n",
       "    </tr>\n",
       "    <tr>\n",
       "      <td>3</td>\n",
       "      <td>sorryimveryhigh</td>\n",
       "      <td>if so imagine being the guy who splurges and s...</td>\n",
       "      <td>1.594274e+09</td>\n",
       "      <td>t3_hnxnn5</td>\n",
       "      <td>hnxnn5</td>\n",
       "      <td>hnxnn5</td>\n",
       "    </tr>\n",
       "    <tr>\n",
       "      <td>4</td>\n",
       "      <td>ThePiz91</td>\n",
       "      <td>Good post op!! Not really proving anything but...</td>\n",
       "      <td>1.594277e+09</td>\n",
       "      <td>t3_hnxnn5</td>\n",
       "      <td>hnxnn5</td>\n",
       "      <td>hnxnn5</td>\n",
       "    </tr>\n",
       "  </tbody>\n",
       "</table>\n",
       "</div>"
      ],
      "text/plain": [
       "            author                                            comment  \\\n",
       "0    AutoModerator  ###[Meta] Sticky Comment\\n\\n[Rule 2](https://w...   \n",
       "1  That_Weird_Girl  Kinda reminds me of \"hidden links\" that chines...   \n",
       "2         4NKALI0N  The throw pillows and cabinets are literally n...   \n",
       "3  sorryimveryhigh  if so imagine being the guy who splurges and s...   \n",
       "4         ThePiz91  Good post op!! Not really proving anything but...   \n",
       "\n",
       "           date       link  parent submission  \n",
       "0  1.594274e+09  t3_hnxnn5  hnxnn5     hnxnn5  \n",
       "1  1.594282e+09  t3_hnxnn5  hnxnn5     hnxnn5  \n",
       "2  1.594407e+09  t3_hnxnn5  hnxnn5     hnxnn5  \n",
       "3  1.594274e+09  t3_hnxnn5  hnxnn5     hnxnn5  \n",
       "4  1.594277e+09  t3_hnxnn5  hnxnn5     hnxnn5  "
      ]
     },
     "execution_count": 309,
     "metadata": {},
     "output_type": "execute_result"
    }
   ],
   "source": [
    "comments_df.head()"
   ]
  },
  {
   "cell_type": "code",
   "execution_count": 314,
   "metadata": {},
   "outputs": [],
   "source": [
    "replies_df = pd.DataFrame()\n",
    "replies_df['index'] = np.arange(0,11251,1)"
   ]
  },
  {
   "cell_type": "code",
   "execution_count": 318,
   "metadata": {},
   "outputs": [],
   "source": [
    "replies_df = replies_df.join(author_rep_df,on='index',how='left',rsuffix='_right')\n",
    "replies_df = replies_df.join(comment_rep_df,on='index',how='left',rsuffix='_right')\n",
    "replies_df = replies_df.join(date_rep_df,on='index',how='left',rsuffix='_right')\n",
    "replies_df = replies_df.join(link_rep_df,on='index',how='left',rsuffix='_right')\n",
    "replies_df = replies_df.join(parent_rep_df,on='index',how='left',rsuffix='_right')\n",
    "replies_df = replies_df.join(sub_rep_df,on='index',how='left',rsuffix='_right')"
   ]
  },
  {
   "cell_type": "code",
   "execution_count": 319,
   "metadata": {},
   "outputs": [
    {
     "data": {
      "text/plain": [
       "Index(['index', '0', 'index_right', '0_right', 'index_right', '0',\n",
       "       'index_right', '0_right', 'index_right', '0', 'index_right', '0_right',\n",
       "       'index_right'],\n",
       "      dtype='object')"
      ]
     },
     "execution_count": 319,
     "metadata": {},
     "output_type": "execute_result"
    }
   ],
   "source": [
    "replies_df.columns"
   ]
  },
  {
   "cell_type": "code",
   "execution_count": 320,
   "metadata": {},
   "outputs": [],
   "source": [
    "replies_df.drop(['index_right','index'], axis=1,inplace=True)"
   ]
  },
  {
   "cell_type": "code",
   "execution_count": 321,
   "metadata": {},
   "outputs": [],
   "source": [
    "replies_df.columns = ['author', 'comment','date','link','parent','submission']"
   ]
  },
  {
   "cell_type": "code",
   "execution_count": 322,
   "metadata": {},
   "outputs": [
    {
     "data": {
      "text/html": [
       "<div>\n",
       "<style scoped>\n",
       "    .dataframe tbody tr th:only-of-type {\n",
       "        vertical-align: middle;\n",
       "    }\n",
       "\n",
       "    .dataframe tbody tr th {\n",
       "        vertical-align: top;\n",
       "    }\n",
       "\n",
       "    .dataframe thead th {\n",
       "        text-align: right;\n",
       "    }\n",
       "</style>\n",
       "<table border=\"1\" class=\"dataframe\">\n",
       "  <thead>\n",
       "    <tr style=\"text-align: right;\">\n",
       "      <th></th>\n",
       "      <th>author</th>\n",
       "      <th>comment</th>\n",
       "      <th>date</th>\n",
       "      <th>link</th>\n",
       "      <th>parent</th>\n",
       "      <th>submission</th>\n",
       "    </tr>\n",
       "  </thead>\n",
       "  <tbody>\n",
       "    <tr>\n",
       "      <td>0</td>\n",
       "      <td>Maschinenherz</td>\n",
       "      <td>Channel \"Survigin life\" on youtube discovered ...</td>\n",
       "      <td>1.594485e+09</td>\n",
       "      <td>t3_hnxnn5</td>\n",
       "      <td>fxeidw1</td>\n",
       "      <td>hnxnn5</td>\n",
       "    </tr>\n",
       "    <tr>\n",
       "      <td>1</td>\n",
       "      <td>pawsfurdaze</td>\n",
       "      <td>We’ll probably they don’t ship an actual cabin...</td>\n",
       "      <td>1.594274e+09</td>\n",
       "      <td>t3_hnxnn5</td>\n",
       "      <td>fxe9du6</td>\n",
       "      <td>hnxnn5</td>\n",
       "    </tr>\n",
       "    <tr>\n",
       "      <td>2</td>\n",
       "      <td>mars42069</td>\n",
       "      <td>This is gaining traction so they likely saw so...</td>\n",
       "      <td>1.594356e+09</td>\n",
       "      <td>t3_hnxnn5</td>\n",
       "      <td>fxedabx</td>\n",
       "      <td>hnxnn5</td>\n",
       "    </tr>\n",
       "    <tr>\n",
       "      <td>3</td>\n",
       "      <td>Flexorcist</td>\n",
       "      <td>If you're spending that kind of money on a sto...</td>\n",
       "      <td>1.594274e+09</td>\n",
       "      <td>t3_hnxnn5</td>\n",
       "      <td>fxe9dpw</td>\n",
       "      <td>hnxnn5</td>\n",
       "    </tr>\n",
       "    <tr>\n",
       "      <td>4</td>\n",
       "      <td>pawsfurdaze</td>\n",
       "      <td>Sometimes though, they’ll be the same exact sh...</td>\n",
       "      <td>1.594274e+09</td>\n",
       "      <td>t3_hnxnn5</td>\n",
       "      <td>fxe9dpw</td>\n",
       "      <td>hnxnn5</td>\n",
       "    </tr>\n",
       "  </tbody>\n",
       "</table>\n",
       "</div>"
      ],
      "text/plain": [
       "          author                                            comment  \\\n",
       "0  Maschinenherz  Channel \"Survigin life\" on youtube discovered ...   \n",
       "1    pawsfurdaze  We’ll probably they don’t ship an actual cabin...   \n",
       "2      mars42069  This is gaining traction so they likely saw so...   \n",
       "3     Flexorcist  If you're spending that kind of money on a sto...   \n",
       "4    pawsfurdaze  Sometimes though, they’ll be the same exact sh...   \n",
       "\n",
       "           date       link   parent submission  \n",
       "0  1.594485e+09  t3_hnxnn5  fxeidw1     hnxnn5  \n",
       "1  1.594274e+09  t3_hnxnn5  fxe9du6     hnxnn5  \n",
       "2  1.594356e+09  t3_hnxnn5  fxedabx     hnxnn5  \n",
       "3  1.594274e+09  t3_hnxnn5  fxe9dpw     hnxnn5  \n",
       "4  1.594274e+09  t3_hnxnn5  fxe9dpw     hnxnn5  "
      ]
     },
     "execution_count": 322,
     "metadata": {},
     "output_type": "execute_result"
    }
   ],
   "source": [
    "replies_df.head()"
   ]
  },
  {
   "cell_type": "code",
   "execution_count": 324,
   "metadata": {},
   "outputs": [],
   "source": [
    "all_com_rep = comments_df.append(replies_df)"
   ]
  },
  {
   "cell_type": "code",
   "execution_count": null,
   "metadata": {},
   "outputs": [],
   "source": [
    "all_com_rep.to_excel(\"wayfair.xlsx\")"
   ]
  }
 ],
 "metadata": {
  "kernelspec": {
   "display_name": "Python 3",
   "language": "python",
   "name": "python3"
  },
  "language_info": {
   "codemirror_mode": {
    "name": "ipython",
    "version": 3
   },
   "file_extension": ".py",
   "mimetype": "text/x-python",
   "name": "python",
   "nbconvert_exporter": "python",
   "pygments_lexer": "ipython3",
   "version": "3.7.4"
  }
 },
 "nbformat": 4,
 "nbformat_minor": 2
}
