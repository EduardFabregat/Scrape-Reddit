{
 "cells": [
  {
   "cell_type": "code",
   "execution_count": 134,
   "metadata": {},
   "outputs": [],
   "source": [
    "import time\n",
    "from selenium import webdriver\n",
    "from selenium.webdriver.common.action_chains import ActionChains\n",
    "from random import randint\n",
    "import requests\n",
    "from bs4 import BeautifulSoup\n",
    "import urllib"
   ]
  },
  {
   "cell_type": "code",
   "execution_count": 135,
   "metadata": {},
   "outputs": [],
   "source": [
    "options = webdriver.ChromeOptions()\n",
    "options.add_argument('--ignore-certificate-errors')\n",
    "options.add_argument('--incognito')\n",
    "options.add_argument('--headless')\n",
    "driver = webdriver.Chrome(\"C:\\\\Users\\\\posit\\\\chromedriver.exe\", options=options)"
   ]
  },
  {
   "cell_type": "code",
   "execution_count": 136,
   "metadata": {},
   "outputs": [],
   "source": [
    "links = []\n",
    "for i in range(0,20,1):\n",
    "    try:\n",
    "        driver.get(\"https://www.thisamericanlife.org/archive?page=%d\" % (i))\n",
    "        list_links = driver.find_elements_by_css_selector(\"h2 .goto-episode\")\n",
    "        for i in list_links:\n",
    "            links.append(i.get_attribute('href'))\n",
    "    except Exception:\n",
    "        continue\n",
    "driver.quit()"
   ]
  },
  {
   "cell_type": "code",
   "execution_count": 137,
   "metadata": {},
   "outputs": [
    {
     "data": {
      "text/plain": [
       "735"
      ]
     },
     "execution_count": 137,
     "metadata": {},
     "output_type": "execute_result"
    }
   ],
   "source": [
    "len(links)"
   ]
  },
  {
   "cell_type": "code",
   "execution_count": 138,
   "metadata": {},
   "outputs": [
    {
     "data": {
      "text/plain": [
       "'https://www.thisamericanlife.org/705/time-out'"
      ]
     },
     "execution_count": 138,
     "metadata": {},
     "output_type": "execute_result"
    }
   ],
   "source": [
    "links[11]"
   ]
  },
  {
   "cell_type": "code",
   "execution_count": 139,
   "metadata": {},
   "outputs": [],
   "source": [
    "links_download=[]\n",
    "for i in range(0,735,1):\n",
    "    temp = links[i]\n",
    "    try:\n",
    "        page = requests.get(f'{temp}')\n",
    "        soup = BeautifulSoup(page.text, \"html.parser\")\n",
    "        import re\n",
    "        for i in soup.find('li', class_=\"download\"):\n",
    "            links_download.append(re.search('https://.*\\.mp3', i.get('href')).group(0))\n",
    "    except Exception:\n",
    "        continue"
   ]
  },
  {
   "cell_type": "code",
   "execution_count": 140,
   "metadata": {},
   "outputs": [
    {
     "data": {
      "text/plain": [
       "['https://www.podtrac.com/pts/redirect.mp3/dovetail.prxu.org/188/a809a8e2-9d57-4890-bcd9-0f3ef3893419/577.mp3',\n",
       " 'https://www.podtrac.com/pts/redirect.mp3/dovetail.prxu.org/188/8bedf6c0-0ed6-44a7-be97-2d13afbb9c77/714.mp3',\n",
       " 'https://www.podtrac.com/pts/redirect.mp3/dovetail.prxu.org/188/8c6f3121-14f1-470b-a63f-8a44afd6f806/713.mp3',\n",
       " 'https://www.podtrac.com/pts/redirect.mp3/dovetail.prxu.org/188/6b8ecb8b-1118-43f9-9278-4854c1741c5e/712.mp3',\n",
       " 'https://www.podtrac.com/pts/redirect.mp3/dovetail.prxu.org/188/3e5810b6-0ed7-47a7-a727-492caf0f2684/711.mp3',\n",
       " 'https://www.podtrac.com/pts/redirect.mp3/dovetail.prxu.org/188/37c42a62-3f58-4766-9c9a-2920107116d3/710.mp3',\n",
       " 'https://www.podtrac.com/pts/redirect.mp3/dovetail.prxu.org/188/da338f94-0790-4684-8e80-0ac198270b6f/709.mp3',\n",
       " 'https://www.podtrac.com/pts/redirect.mp3/dovetail.prxu.org/188/e5cace44-298d-4e63-9149-560fb5d9cbc7/708.mp3',\n",
       " 'https://www.podtrac.com/pts/redirect.mp3/dovetail.prxu.org/188/403559cd-2c02-487f-9cea-60b2a3e93c19/707.mp3',\n",
       " 'https://www.podtrac.com/pts/redirect.mp3/dovetail.prxu.org/188/481897c9-291d-4828-9e5d-f30bc1a8c35c/706.mp3',\n",
       " 'https://www.podtrac.com/pts/redirect.mp3/dovetail.prxu.org/188/a809a8e2-9d57-4890-bcd9-0f3ef3893419/577.mp3']"
      ]
     },
     "execution_count": 140,
     "metadata": {},
     "output_type": "execute_result"
    }
   ],
   "source": [
    "#links_download"
   ]
  },
  {
   "cell_type": "code",
   "execution_count": 146,
   "metadata": {},
   "outputs": [],
   "source": [
    "options = webdriver.ChromeOptions()\n",
    "options.add_argument('--ignore-certificate-errors')\n",
    "options.add_argument('--incognito')\n",
    "#options.add_argument('--headless')\n",
    "driver = webdriver.Chrome(\"C:\\\\Users\\\\posit\\\\chromedriver.exe\", options=options)"
   ]
  },
  {
   "cell_type": "code",
   "execution_count": 144,
   "metadata": {},
   "outputs": [
    {
     "data": {
      "text/plain": [
       "11"
      ]
     },
     "execution_count": 144,
     "metadata": {},
     "output_type": "execute_result"
    }
   ],
   "source": [
    "len(links_download)"
   ]
  },
  {
   "cell_type": "code",
   "execution_count": null,
   "metadata": {},
   "outputs": [],
   "source": [
    "for i in range(0,11,1):\n",
    "    temp=links_download[i]\n",
    "    try:\n",
    "        driver.get(temp)\n",
    "    except Exception:\n",
    "        continue\n",
    "driver.quit()"
   ]
  }
 ],
 "metadata": {
  "kernelspec": {
   "display_name": "Python 3",
   "language": "python",
   "name": "python3"
  },
  "language_info": {
   "codemirror_mode": {
    "name": "ipython",
    "version": 3
   },
   "file_extension": ".py",
   "mimetype": "text/x-python",
   "name": "python",
   "nbconvert_exporter": "python",
   "pygments_lexer": "ipython3",
   "version": "3.7.4"
  }
 },
 "nbformat": 4,
 "nbformat_minor": 2
}
